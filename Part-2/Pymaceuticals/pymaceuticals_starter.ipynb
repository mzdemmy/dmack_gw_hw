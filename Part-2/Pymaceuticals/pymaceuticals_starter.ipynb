{
 "cells": [
  {
   "cell_type": "code",
   "execution_count": null,
   "metadata": {},
   "outputs": [],
   "source": [
    "# Dependencies and Setup\n",
    "%matplotlib inline\n",
    "import matplotlib.pyplot as plt\n",
    "import pandas as pd\n",
    "import numpy as np\n",
    "\n",
    "# Hide warning messages in notebook\n",
    "import warnings\n",
    "warnings.filterwarnings('ignore')\n",
    "\n",
    "# File to Load (Remember to Change These)\n",
    "mouse_drug_data_to_load = \"data/mouse_drug_data.csv\"\n",
    "clinical_trial_data_to_load = \"data/clinicaltrial_data.csv\"\n",
    "\n",
    "# Read the Mouse and Drug Data and the Clinical Trial Data\n",
    "mouse_ndrug_df = pd.read_csv(mouse_drug_data_to_load)\n",
    "ctrial_df = pd.read_csv(clinical_trial_data_to_load)\n",
    "\n",
    "# Combine the data into a single dataset \n",
    "combined_df = pd.merge(mouse_ndrug_df, ctrial_df,\n",
    "                                 how='outer', on='Mouse ID')\n",
    "\n",
    "# Display the data table for preview\n",
    "combined_df.head()"
   ]
  },
  {
   "cell_type": "markdown",
   "metadata": {},
   "source": [
    "## Tumor Response to Treatment"
   ]
  },
  {
   "cell_type": "code",
   "execution_count": null,
   "metadata": {},
   "outputs": [],
   "source": [
    "# Store the Mean Tumor Volume Data Grouped by Drug and Timepoint \n",
    "\n",
    "tumor_mean_df = combined_df.groupby(['Drug', 'Timepoint'])['Tumor Volume (mm3)'].mean()\n",
    "tumor_mean_df \n",
    "\n",
    "# Convert to DataFrame\n",
    "tumor_mean_df = pd.DataFrame(tumor_mean_df.reset_index())\n",
    "\n",
    "# Preview DataFrame\n",
    "tumor_mean_df.head()"
   ]
  },
  {
   "cell_type": "code",
   "execution_count": null,
   "metadata": {},
   "outputs": [],
   "source": [
    "# Store the Standard Error of Tumor Volumes Grouped by Drug and Timepoint\n",
    "tumor_sem_df = combined_df.groupby(['Drug', 'Timepoint'])['Tumor Volume (mm3)'].sem()\n",
    "tumor_sem_df \n",
    "\n",
    "# Convert to DataFrame\n",
    "tumor_sem_df = pd.DataFrame(tumor_sem_df.reset_index())\n",
    "\n",
    "# Preview DataFrame\n",
    "tumor_sem_df.head()"
   ]
  },
  {
   "cell_type": "code",
   "execution_count": null,
   "metadata": {},
   "outputs": [],
   "source": [
    "# Minor Data Munging to Re-Format the Data Frames:\n",
    "\n",
    "#transpose the drug and mean data with the timepoint as the index using .pivot\n",
    "tumor_mean_pivot = tumor_mean_df.pivot(index=\"Timepoint\", columns=\"Drug\")[\"Tumor Volume (mm3)\"]\n",
    "\n",
    "\n",
    "# Preview that Reformatting worked\n",
    "tumor_mean_pivot.head()"
   ]
  },
  {
   "cell_type": "code",
   "execution_count": null,
   "metadata": {},
   "outputs": [],
   "source": [
    "# Minor Data Munging to Re-Format the Data Frames:\n",
    "\n",
    "#transpose the drug and sem data with the timepoint as the index using .pivot\n",
    "tumor_sem_pivot = tumor_sem_df.pivot(index=\"Timepoint\", columns=\"Drug\")[\"Tumor Volume (mm3)\"]\n",
    "\n",
    "# Preview that Reformatting worked\n",
    "tumor_sem_pivot.head()"
   ]
  },
  {
   "cell_type": "code",
   "execution_count": null,
   "metadata": {},
   "outputs": [],
   "source": [
    "# Generate the Plot (with Error Bars)\n",
    "plt.errorbar(tumor_mean_pivot.index, tumor_mean_pivot[\"Capomulin\"], \\\n",
    "             yerr=tumor_sem_pivot[\"Capomulin\"], color=\"r\", marker=\"o\", markersize=5, \\\n",
    "             linestyle='--',linewidth=0.5)\n",
    "                                   \n",
    "plt.errorbar(tumor_mean_pivot.index, tumor_mean_pivot[\"Infubinol\"], \\\n",
    "             yerr=tumor_sem_pivot[\"Infubinol\"], color=\"b\", marker=\"^\", markersize=5, \\\n",
    "             linestyle='--',linewidth=0.5)\n",
    "\n",
    "plt.errorbar(tumor_mean_pivot.index, tumor_mean_pivot[\"Ketapril\"], \\\n",
    "             yerr=tumor_sem_pivot[\"Ketapril\"], color=\"g\", marker=\"s\", markersize=5, \\\n",
    "             linestyle='--',linewidth=0.5)\n",
    "                                   \n",
    "plt.errorbar(tumor_mean_pivot.index, tumor_mean_pivot[\"Placebo\"], \\\n",
    "             yerr=tumor_sem_pivot[\"Placebo\"], color=\"k\", marker=\"d\", markersize=5, \\\n",
    "             linestyle='--',linewidth=0.5)\n",
    "                                         \n",
    "                                           \n",
    "# Add proper labeling to the plot                                                                                       \n",
    "plt.title(\"Tumor Respone to Treatment\") \n",
    "plt.ylabel(\"Tumor Volume (mm3)\")\n",
    "plt.xlabel(\"Time (Days)\")\n",
    "plt.grid(axis='y')\n",
    "plt.legend(['Capomulin', 'Infubinol', 'Ketapril', 'Placebo'],loc=\"best\", fontsize=\"small\", fancybox=True)\n",
    "            \n",
    "# Save the Figure\n",
    "plt.savefig(\"../Images/treatment2.png\")\n"
   ]
  },
  {
   "cell_type": "markdown",
   "metadata": {},
   "source": [
    "What the Tumor Response to Treatment Plot Shows:\n",
    "The plot graphs shows that the Capoulin treatment appears to have the most positive effect \n",
    "on tumor growth over the past 45 days, starting after day 5. Data shows an average tumor \n",
    "volume shrinkage of 10 mm3.\n",
    "The tumor continued to grow, after day 5, with the other treatments: volume growth averaged \n",
    "between 15-to-25 mm3. It appears, the other 2 drugs had generally the same effect as having \n",
    "no treatment (taking the placebo); the Katapril treatment having the worst effect."
   ]
  },
  {
   "cell_type": "code",
   "execution_count": null,
   "metadata": {},
   "outputs": [],
   "source": [
    "# Show the Figure\n",
    "plt.show()"
   ]
  },
  {
   "cell_type": "markdown",
   "metadata": {},
   "source": [
    "![Tumor Response to Treatment](../Images/treatment.png)"
   ]
  },
  {
   "cell_type": "markdown",
   "metadata": {},
   "source": [
    "## Metastatic Response to Treatment"
   ]
  },
  {
   "cell_type": "code",
   "execution_count": null,
   "metadata": {},
   "outputs": [],
   "source": [
    "# Store the Mean Met. Site Data Grouped by Drug and Timepoint \n",
    "metsite_mean_df = combined_df.groupby(['Drug', 'Timepoint'])['Metastatic Sites'].mean()\n",
    "metsite_mean_df \n",
    "\n",
    "# Convert to DataFrame\n",
    "metsite_mean_df = pd.DataFrame(metsite_mean_df.reset_index())\n",
    "\n",
    "# Preview DataFrame\n",
    "metsite_mean_df.head()"
   ]
  },
  {
   "cell_type": "code",
   "execution_count": null,
   "metadata": {},
   "outputs": [],
   "source": [
    "# Store the Standard Error associated with Met. Sites Grouped by Drug and Timepoint \n",
    "metsite_sem_df = combined_df.groupby(['Drug', 'Timepoint'])['Metastatic Sites'].sem()\n",
    "metsite_sem_df \n",
    "\n",
    "# Convert to DataFrame\n",
    "metsite_sem_df = pd.DataFrame(metsite_sem_df.reset_index())\n",
    "\n",
    "# Preview DataFrame\n",
    "metsite_sem_df.head()"
   ]
  },
  {
   "cell_type": "code",
   "execution_count": null,
   "metadata": {},
   "outputs": [],
   "source": [
    "# Minor Data Munging to Re-Format the Data Frames\n",
    "\n",
    "#transpose the drug and mean data with the timepoint as the index using .pivot\n",
    "metsite_mean_pivot = metsite_mean_df.pivot(index=\"Timepoint\", columns=\"Drug\")[\"Metastatic Sites\"]\n",
    "\n",
    "\n",
    "# Preview that Reformatting worked\n",
    "metsite_mean_pivot.head()"
   ]
  },
  {
   "cell_type": "code",
   "execution_count": null,
   "metadata": {},
   "outputs": [],
   "source": [
    "# Minor Data Munging to Re-Format the Data Frames\n",
    "\n",
    "#transpose the drug and sem data with the timepoint as the index using .pivot\n",
    "metsite_sem_pivot = metsite_sem_df.pivot(index=\"Timepoint\", columns=\"Drug\")[\"Metastatic Sites\"]\n",
    "\n",
    "# Preview that Reformatting worked\n",
    "metsite_sem_pivot.head()"
   ]
  },
  {
   "cell_type": "code",
   "execution_count": null,
   "metadata": {},
   "outputs": [],
   "source": [
    "# Generate the Plot (with Error Bars)\n",
    "\n",
    "plt.errorbar(metsite_mean_pivot.index, metsite_mean_pivot[\"Capomulin\"], \\\n",
    "             yerr=metsite_sem_pivot[\"Capomulin\"], color=\"r\", marker=\"o\", markersize=5, \\\n",
    "             linestyle='--',linewidth=0.5)\n",
    "                                   \n",
    "plt.errorbar(metsite_mean_pivot.index, metsite_mean_pivot[\"Infubinol\"], \\\n",
    "             yerr=metsite_sem_pivot[\"Infubinol\"], color=\"b\", marker=\"^\", markersize=5, \\\n",
    "             linestyle='--',linewidth=0.5)\n",
    "\n",
    "plt.errorbar(metsite_mean_pivot.index, metsite_mean_pivot[\"Ketapril\"], \\\n",
    "             yerr=metsite_sem_pivot[\"Ketapril\"], color=\"g\", marker=\"s\", markersize=5, \\\n",
    "             linestyle='--',linewidth=0.5)\n",
    "                                   \n",
    "plt.errorbar(metsite_mean_pivot.index, metsite_mean_pivot[\"Placebo\"], \\\n",
    "             yerr=tumor_sem_pivot[\"Placebo\"], color=\"k\", marker=\"d\", markersize=5, \\\n",
    "             linestyle='--',linewidth=0.5)\n",
    "                                         \n",
    "                                           \n",
    "# Add proper labeling to the plot                                                                                       \n",
    "plt.title(\"Metastatic Spread During Treatment\") \n",
    "plt.ylabel(\"Met. Sites\")\n",
    "plt.xlabel(\"Treatment Duration (Days)\")\n",
    "plt.grid(axis='y')\n",
    "plt.legend(['Capomulin', 'Infubinol', 'Ketapril', 'Placebo'],loc=\"best\", fontsize=\"small\", fancybox=True)\n",
    "            \n",
    "# Save the Figure\n",
    "plt.savefig(\"../Images/spread2.png\")"
   ]
  },
  {
   "cell_type": "markdown",
   "metadata": {},
   "source": [
    "What the Metastatic Spread During Treatment Plot Shows: The plot shows that the matastatic spread (spread of cancer to new areas of the body) occured with all treatments, but the spread during treatment with the Capomulin drug was .5 to nearly 2.5 less sites than with the other drugs (including the placebo) over the 45 day period.  The placebo and Ketapril treatments had the same spread at the end of the period, although the spread appeared to occur faster with the placebo treatment.  Spread with the Infubinol treatment started the same as the Ketapril treatment up through day 20, but slowed over the remaining 25 days."
   ]
  },
  {
   "cell_type": "code",
   "execution_count": null,
   "metadata": {},
   "outputs": [],
   "source": [
    "# Show the Figure\n",
    "plt.show()"
   ]
  },
  {
   "cell_type": "markdown",
   "metadata": {},
   "source": [
    "![Metastatic Spread During Treatment](../Images/spread.png)"
   ]
  },
  {
   "cell_type": "markdown",
   "metadata": {},
   "source": [
    "## Survival Rates"
   ]
  },
  {
   "cell_type": "code",
   "execution_count": null,
   "metadata": {},
   "outputs": [],
   "source": [
    "# Store the Count of Mice Grouped by Drug and Timepoint (W can pass any metric)\n",
    "\n",
    "# Store the Standard Error associated with Met. Sites Grouped by Drug and Timepoint \n",
    "mice_ct = combined_df.groupby(['Drug', 'Timepoint'])['Metastatic Sites'].count()\n",
    "mice_ct \n",
    "\n",
    "# Convert to DataFrame\n",
    "survival_df = pd.DataFrame({\"Mouse Count\": mice_ct})\n",
    "survival_df = survival_df.reset_index()\n",
    "\n",
    "# Preview DataFrame\n",
    "survival_df.head()"
   ]
  },
  {
   "cell_type": "code",
   "execution_count": null,
   "metadata": {},
   "outputs": [],
   "source": [
    "# Minor Data Munging to Re-Format the Data Frames\n",
    "\n",
    "#transpose the drug and sem data with the timepoint as the index using .pivot\n",
    "survival_pivot = survival_df.pivot(index=\"Timepoint\", columns=\"Drug\")[\"Mouse Count\"]\n",
    "\n",
    "# Preview that Reformatting worked\n",
    "survival_pivot.head()"
   ]
  },
  {
   "cell_type": "code",
   "execution_count": null,
   "metadata": {
    "scrolled": true
   },
   "outputs": [],
   "source": [
    "# Generate the Plot (Accounting for percentages)\n",
    "plt.plot(100 * survival_pivot[\"Capomulin\"] / 25, color=\"r\", marker=\"o\", markersize=5,linestyle='--',linewidth=0.5)\n",
    "                                   \n",
    "plt.plot(100 * survival_pivot[\"Infubinol\"] / 25, color=\"b\", marker=\"^\", markersize=5,linestyle='--',linewidth=0.5)\n",
    "\n",
    "plt.plot(100 * survival_pivot[\"Ketapril\"] / 25, color=\"g\", marker=\"s\", markersize=5,linestyle='--',linewidth=0.5)\n",
    "                                   \n",
    "plt.plot(100 * survival_pivot[\"Placebo\"] / 25, color=\"k\", marker=\"d\", markersize=5,linestyle='--',linewidth=0.5)\n",
    "\n",
    "# Add proper labeling to the plot                                                                                       \n",
    "plt.title(\"Survival During Treatment\") \n",
    "plt.ylabel(\"Survival Rate (%)\")\n",
    "plt.xlabel(\"Time (Days)\")\n",
    "plt.grid(True)\n",
    "plt.legend(['Capomulin', 'Infubinol', 'Ketapril', 'Placebo'],loc=\"best\", fontsize=\"small\", fancybox=True)\n",
    "            \n",
    "# Save the Figure\n",
    "plt.savefig(\"../Images/survival2.png\")"
   ]
  },
  {
   "cell_type": "markdown",
   "metadata": {},
   "source": [
    "What the Survival During Treatment Plot Shows: The survival rate was less than 50% for all treatments except for Capomulin over the 45-day period.  Under the Capomulin treatment, the survival rate remained 100% through day 10, plateued right under 90% from day 25 to 35, and then plateuaed again at 85% the remaining 5 days.  Survival rates show a steady decline over the period for Placebo and Infubinol treatemnts.  Rates took a plunge after day 30 under the Infubinol, losing over 20% of mice in 5 days. Survival rates under the Katapril treatment reached a 10-day plateua before beginning to fall again, matching the Placebo rates at the end of the 45-day period."
   ]
  },
  {
   "cell_type": "code",
   "execution_count": null,
   "metadata": {},
   "outputs": [],
   "source": [
    "# Show the Figure\n",
    "plt.show()"
   ]
  },
  {
   "cell_type": "markdown",
   "metadata": {},
   "source": [
    "![Metastatic Spread During Treatment](../Images/survival.png)"
   ]
  },
  {
   "cell_type": "markdown",
   "metadata": {},
   "source": [
    "## Summary Bar Graph"
   ]
  },
  {
   "cell_type": "code",
   "execution_count": null,
   "metadata": {},
   "outputs": [],
   "source": [
    "# Calculate the percent changes for each drug\n",
    "drug_pctchg = 100 * (tumor_mean_pivot.iloc[-1] - tumor_mean_pivot.iloc[0]) / tumor_mean_pivot.iloc[0]\n",
    "\n",
    "# Display the data to confirm\n",
    "tumor_mean_pivot.iloc[-1]\n",
    "tumor_mean_pivot.iloc[0]\n",
    "drug_pctchg"
   ]
  },
  {
   "cell_type": "code",
   "execution_count": null,
   "metadata": {},
   "outputs": [],
   "source": [
    "# Calculate the percent changes for each drug\n",
    "drug_pctchg_sem = 100 * (tumor_sem_pivot.iloc[-1] - tumor_sem_pivot.iloc[0] / tumor_sem_pivot.iloc [0])\n",
    "\n",
    "# Display the data to confirm\n",
    "tumor_sem_pivot.iloc[-1]\n",
    "tumor_sem_pivot.iloc[0]\n",
    "drug_pctchg_sem"
   ]
  },
  {
   "cell_type": "code",
   "execution_count": 1,
   "metadata": {},
   "outputs": [
    {
     "ename": "NameError",
     "evalue": "name 'drug_pctchg' is not defined",
     "output_type": "error",
     "traceback": [
      "\u001b[0;31m---------------------------------------------------------------------------\u001b[0m",
      "\u001b[0;31mNameError\u001b[0m                                 Traceback (most recent call last)",
      "\u001b[0;32m<ipython-input-1-a1b2c4bb0fa7>\u001b[0m in \u001b[0;36m<module>\u001b[0;34m\u001b[0m\n\u001b[1;32m      1\u001b[0m \u001b[0;31m# Store all Relevant Percent Changes into a Tuple\u001b[0m\u001b[0;34m\u001b[0m\u001b[0;34m\u001b[0m\u001b[0;34m\u001b[0m\u001b[0m\n\u001b[0;32m----> 2\u001b[0;31m rel_pctchg = (drug_pctchg[\"Capomulin\"],\n\u001b[0m\u001b[1;32m      3\u001b[0m               \u001b[0mdrug_pctchg\u001b[0m\u001b[0;34m[\u001b[0m\u001b[0;34m\"Infubinol\"\u001b[0m\u001b[0;34m]\u001b[0m\u001b[0;34m,\u001b[0m\u001b[0;34m\u001b[0m\u001b[0;34m\u001b[0m\u001b[0m\n\u001b[1;32m      4\u001b[0m               \u001b[0mdrug_pctchg\u001b[0m\u001b[0;34m[\u001b[0m\u001b[0;34m\"Ketapril\"\u001b[0m\u001b[0;34m]\u001b[0m\u001b[0;34m,\u001b[0m\u001b[0;34m\u001b[0m\u001b[0;34m\u001b[0m\u001b[0m\n\u001b[1;32m      5\u001b[0m               drug_pctchg[\"Placebo\"])\n",
      "\u001b[0;31mNameError\u001b[0m: name 'drug_pctchg' is not defined"
     ]
    }
   ],
   "source": [
    "# Store all Relevant Percent Changes into a Tuple\n",
    "rel_pctchg = (drug_pctchg[\"Capomulin\"],\n",
    "              drug_pctchg[\"Infubinol\"],\n",
    "              drug_pctchg[\"Ketapril\"],\n",
    "              drug_pctchg[\"Placebo\"])\n",
    "rel_pctchg\n",
    "\n",
    "# Splice the data between passing and failing drugs\n",
    "fig, ax = plt.subplots()   # unpack the tuple into variables\n",
    "ind = np.arange(len(rel_pctchg))   # x locations of the groups\n",
    "width = 1   #the width of the bars\n",
    "rects_pass = ax.bar(ind[0], rel_pctchg[0], width, color='green')\n",
    "rects_fail = ax.bar(ind[1:], rel_pctchg[1:], width, color='red')\n",
    "\n",
    "# Orient widths. Add labels, tick marks, etc. \n",
    "ax.set_ylabel('% Tumor Volume Change')\n",
    "ax.set_title('Tumor Change Over 45 Day Treatment')\n",
    "ax.set_xticks(ind + 0.5)\n",
    "ax.set_xticklabels(('Campomulin', 'Infubinol', 'Ketapril', 'Placebo'))\n",
    "ax.set_autoscaley_on(False)\n",
    "ax.set_ylim(-30,70)\n",
    "ax.grid(True)\n",
    "\n",
    "# Use functions to label the percentages of changes\n",
    "def autolabelPass(rects):\n",
    "    for rect in rects:\n",
    "        height = rect.get_height()\n",
    "        ax.text(rect.get_x()+rect.get_width()/2., 3, '%d%%'%int(height),\n",
    "                ha='center', va='bottom')\n",
    "            \n",
    "def autolabelFail(rects):\n",
    "    for rect in rects:\n",
    "        height = rect.get_height()\n",
    "        ax.text(rect.get_x()+rect.get_width()/2., -8, '%d%%'%int(height),\n",
    "                ha='center', va='bottom')\n",
    "\n",
    "# Call functions to implement the function calls\n",
    "autolabelPass(rects_pass)\n",
    "autolabelFail(rects_fail)\n",
    "\n",
    "# Save the Figure\n",
    "fig.savefig(\"../Images/change2.png\")"
   ]
  },
  {
   "cell_type": "markdown",
   "metadata": {},
   "source": [
    "What the Summary Bar Graph Shows: Cancer appeard to be in the decline (19%) for Capomulin treatments, while on the rise under the other 3 treatments upwards of 46+ percent over the 45-day period. The graph illustrates Capolmulin  \"passing\" during the test period with a negative percentof change and the others \"failing\" due to the  high percent of change over the same period.  Interestingly, Ketapril treatments appeard to be slightly worse than doing nothing at all with a 6% higher change than that of the placebo treatment."
   ]
  },
  {
   "cell_type": "code",
   "execution_count": null,
   "metadata": {},
   "outputs": [],
   "source": [
    "# Show the Figure\n",
    "fig.show()"
   ]
  },
  {
   "cell_type": "markdown",
   "metadata": {},
   "source": [
    "![Metastatic Spread During Treatment](../Images/change.png)"
   ]
  },
  {
   "cell_type": "code",
   "execution_count": null,
   "metadata": {},
   "outputs": [],
   "source": []
  }
 ],
 "metadata": {
  "anaconda-cloud": {},
  "kernelspec": {
   "display_name": "Python 3",
   "language": "python",
   "name": "python3"
  },
  "language_info": {
   "codemirror_mode": {
    "name": "ipython",
    "version": 3
   },
   "file_extension": ".py",
   "mimetype": "text/x-python",
   "name": "python",
   "nbconvert_exporter": "python",
   "pygments_lexer": "ipython3",
   "version": "3.7.3"
  }
 },
 "nbformat": 4,
 "nbformat_minor": 1
}
